{
 "cells": [
  {
   "cell_type": "markdown",
   "metadata": {},
   "source": [
    "kNN 原始分类器\n",
    "\n",
    "testData:测试集\n",
    "\n",
    "one_data:测试集中的一个样本\n",
    "\n",
    "trainData:训练集\n",
    "\n",
    "k:选取前k个差距最小的样本"
   ]
  },
  {
   "cell_type": "code",
   "execution_count": 60,
   "metadata": {},
   "outputs": [],
   "source": [
    "import numpy as np\n",
    "import operator\n",
    "def classify(one_data,trainData,k=3):\n",
    "    n,m=trainData.shape\n",
    "    diffMat=np.tile(one_data,(n,1))-trainData[:,:m-1]\n",
    "    Distances=(diffMat**2).sum(axis=1)**0.5\n",
    "    Distances=np.column_stack((Distances,trainData[:,-1:]))\n",
    "    sortedDistances=sorted(Distances,key=operator.itemgetter(0))\n",
    "    Count={}\n",
    "    cntk=0 \n",
    "    for distance in sortedDistances:\n",
    "        if(cntk>k):break\n",
    "        Count[distance[-1]]=Count.get(distance[-1],0)+1\n",
    "        cntk+=1\n",
    "    return sorted(Count.items(),key=operator.itemgetter(1),reverse=True)[0][0]"
   ]
  },
  {
   "cell_type": "markdown",
   "metadata": {},
   "source": [
    "将原来32* 32的图像转换成1* 1025(最后添加一个class维）的向量方便之后的分类"
   ]
  },
  {
   "cell_type": "code",
   "execution_count": 38,
   "metadata": {},
   "outputs": [
    {
     "data": {
      "text/plain": [
       "array([[0., 0., 0., ..., 0., 0., 0.]])"
      ]
     },
     "execution_count": 38,
     "metadata": {},
     "output_type": "execute_result"
    }
   ],
   "source": [
    "def imgVector(filename):\n",
    "    mat=np.zeros((1,1025))\n",
    "    with open(filename) as f:\n",
    "        i=0\n",
    "        for one_line in f:\n",
    "            for one_letter in one_line.strip():\n",
    "                mat[0,i]=int(one_letter)\n",
    "                i+=1\n",
    "        mat[0,-1]=int(filename.split('/')[1][0])\n",
    "    return mat\n",
    "imgVector('testDigits/0_0.txt')"
   ]
  },
  {
   "cell_type": "markdown",
   "metadata": {},
   "source": [
    "测试结果:\n",
    "\n",
    "测试样本数量:946\n",
    "\n",
    "正确数量:935\n",
    "\n",
    "错误数量:11\n",
    "\n",
    "错误率:1.1%"
   ]
  },
  {
   "cell_type": "code",
   "execution_count": 63,
   "metadata": {},
   "outputs": [
    {
     "name": "stdout",
     "output_type": "stream",
     "text": [
      "the ID is 172,the classifier came back with 7,the real answer is 1\n",
      "the ID is 279,the classifier came back with 9,the real answer is 3\n",
      "the ID is 327,the classifier came back with 9,the real answer is 3\n",
      "the ID is 510,the classifier came back with 9,the real answer is 5\n",
      "the ID is 520,the classifier came back with 3,the real answer is 5\n",
      "the ID is 521,the classifier came back with 6,the real answer is 5\n",
      "the ID is 769,the classifier came back with 6,the real answer is 8\n",
      "the ID is 782,the classifier came back with 3,the real answer is 8\n",
      "the ID is 796,the classifier came back with 1,the real answer is 8\n",
      "the ID is 806,the classifier came back with 1,the real answer is 8\n",
      "the ID is 914,the classifier came back with 7,the real answer is 9\n",
      "error_count is  11\n",
      "the total error rate is  0.011627906976744186\n"
     ]
    }
   ],
   "source": [
    "import os\n",
    "trainPath='trainingDigits/'\n",
    "testPath='testDigits/'\n",
    "def handwritingClassTest():\n",
    "    trainfiles=os.listdir('trainingDigits/')\n",
    "    trainMat=np.zeros((len(trainfiles),1025))\n",
    "    for i,trainfile in enumerate(trainfiles):\n",
    "        trainMat[i,:]=imgVector(os.path.join(trainPath,trainfile))\n",
    "    testfiles=os.listdir('testDigits/')\n",
    "    error_count=0\n",
    "    for i,testfile in enumerate(testfiles):\n",
    "        num=int(testfile.split('_')[0])\n",
    "        testMat=imgVector(os.path.join(testPath,testfile))[0,:1024]\n",
    "        res=int(classify(testMat,trainMat))\n",
    "        if(res!=num):\n",
    "            error_count+=1\n",
    "            print(f'the ID is {i},the classifier came back with {res},the real answer is {num}')\n",
    "    print(\"error_count is \",error_count)\n",
    "    print(\"the total error rate is \",error_count/len(testfiles))\n",
    "handwritingClassTest()"
   ]
  }
 ],
 "metadata": {
  "kernelspec": {
   "display_name": "Python 3",
   "language": "python",
   "name": "python3"
  },
  "language_info": {
   "codemirror_mode": {
    "name": "ipython",
    "version": 3
   },
   "file_extension": ".py",
   "mimetype": "text/x-python",
   "name": "python",
   "nbconvert_exporter": "python",
   "pygments_lexer": "ipython3",
   "version": "3.6.10"
  }
 },
 "nbformat": 4,
 "nbformat_minor": 4
}
