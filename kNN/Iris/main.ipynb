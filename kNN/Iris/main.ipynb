{
 "cells": [
  {
   "cell_type": "markdown",
   "metadata": {},
   "source": [
    "kNN 原始分类器\n",
    "\n",
    "testData:测试集\n",
    "\n",
    "one_data:测试集中的一个样本\n",
    "\n",
    "trainData:训练集(带标签）\n",
    "\n",
    "k:选取前k个差距最小的样本"
   ]
  },
  {
   "cell_type": "code",
   "execution_count": 18,
   "metadata": {},
   "outputs": [],
   "source": [
    "import numpy as np\n",
    "import operator\n",
    "def classify(one_data,trainData,k=3):\n",
    "    n,m=trainData.shape\n",
    "    diffMat=np.tile(one_data,(n,1))-trainData[:,:m-1]\n",
    "    Distances=(diffMat**2).sum(axis=1)**0.5\n",
    "    Distances=np.column_stack((Distances,trainData[:,-1:]))\n",
    "    sortedDistances=sorted(Distances,key=operator.itemgetter(0))\n",
    "    Count={}\n",
    "    cntk=0 \n",
    "    for distance in sortedDistances:\n",
    "        if(cntk>k):break\n",
    "        Count[distance[-1]]=Count.get(distance[-1],0)+1\n",
    "        cntk+=1\n",
    "    return sorted(Count.items(),key=operator.itemgetter(1),reverse=True)[0][0]"
   ]
  },
  {
   "cell_type": "markdown",
   "metadata": {},
   "source": [
    "归一化特征值\n",
    "\n",
    "newvalue=(oldvalue-minvalue)/(maxvalue-minvalue)"
   ]
  },
  {
   "cell_type": "code",
   "execution_count": 2,
   "metadata": {},
   "outputs": [],
   "source": [
    "import pandas as pd \n",
    "df=pd.read_csv('iris.data',names=['sepal length','sepal width','petal length','petal width','class'])\n",
    "def autonorm(df):\n",
    "    number_df=df.iloc[:,:4]\n",
    "    minval=number_df.min(axis=0)\n",
    "    maxval=number_df.max(axis=0)\n",
    "    tile_minval=np.tile(minval,(number_df.shape[0],1))\n",
    "    tile_maxval=np.tile(maxval,(number_df.shape[0],1))\n",
    "    normdata=(number_df-tile_minval)/(tile_maxval+tile_minval)\n",
    "    return np.column_stack((normdata,df.iloc[:,-1:]))"
   ]
  },
  {
   "cell_type": "markdown",
   "metadata": {},
   "source": [
    "选取数据集:Iris(150)进行测试\n",
    "\n",
    "trainData:120个\n",
    "\n",
    "testData:30个\n",
    "\n",
    "测试结果:\n",
    "\n",
    "测试样本数量:30\n",
    "\n",
    "正确数量:29\n",
    "\n",
    "错误数量:1\n",
    "\n",
    "错误率:3.3%\n",
    "    "
   ]
  },
  {
   "cell_type": "code",
   "execution_count": 20,
   "metadata": {},
   "outputs": [
    {
     "name": "stdout",
     "output_type": "stream",
     "text": [
      "the ID is 0,the classifier came back with Iris-versicolor,the real answer is Iris-versicolor\n",
      "the ID is 1,the classifier came back with Iris-versicolor,the real answer is Iris-versicolor\n",
      "the ID is 2,the classifier came back with Iris-versicolor,the real answer is Iris-versicolor\n",
      "the ID is 3,the classifier came back with Iris-virginica,the real answer is Iris-virginica\n",
      "the ID is 4,the classifier came back with Iris-versicolor,the real answer is Iris-versicolor\n",
      "the ID is 5,the classifier came back with Iris-versicolor,the real answer is Iris-versicolor\n",
      "the ID is 6,the classifier came back with Iris-versicolor,the real answer is Iris-versicolor\n",
      "the ID is 7,the classifier came back with Iris-setosa,the real answer is Iris-setosa\n",
      "the ID is 8,the classifier came back with Iris-versicolor,the real answer is Iris-versicolor\n",
      "the ID is 9,the classifier came back with Iris-virginica,the real answer is Iris-virginica\n",
      "the ID is 10,the classifier came back with Iris-versicolor,the real answer is Iris-virginica\n",
      "the ID is 11,the classifier came back with Iris-virginica,the real answer is Iris-virginica\n",
      "the ID is 12,the classifier came back with Iris-virginica,the real answer is Iris-virginica\n",
      "the ID is 13,the classifier came back with Iris-versicolor,the real answer is Iris-versicolor\n",
      "the ID is 14,the classifier came back with Iris-versicolor,the real answer is Iris-versicolor\n",
      "the ID is 15,the classifier came back with Iris-versicolor,the real answer is Iris-versicolor\n",
      "the ID is 16,the classifier came back with Iris-versicolor,the real answer is Iris-versicolor\n",
      "the ID is 17,the classifier came back with Iris-setosa,the real answer is Iris-setosa\n",
      "the ID is 18,the classifier came back with Iris-virginica,the real answer is Iris-virginica\n",
      "the ID is 19,the classifier came back with Iris-versicolor,the real answer is Iris-versicolor\n",
      "the ID is 20,the classifier came back with Iris-versicolor,the real answer is Iris-versicolor\n",
      "the ID is 21,the classifier came back with Iris-versicolor,the real answer is Iris-versicolor\n",
      "the ID is 22,the classifier came back with Iris-versicolor,the real answer is Iris-versicolor\n",
      "the ID is 23,the classifier came back with Iris-virginica,the real answer is Iris-virginica\n",
      "the ID is 24,the classifier came back with Iris-setosa,the real answer is Iris-setosa\n",
      "the ID is 25,the classifier came back with Iris-versicolor,the real answer is Iris-versicolor\n",
      "the ID is 26,the classifier came back with Iris-setosa,the real answer is Iris-setosa\n",
      "the ID is 27,the classifier came back with Iris-setosa,the real answer is Iris-setosa\n",
      "the ID is 28,the classifier came back with Iris-setosa,the real answer is Iris-setosa\n",
      "the ID is 29,the classifier came back with Iris-setosa,the real answer is Iris-setosa\n",
      "error_count is  1\n",
      "the total error rate is  0.03333333333333333\n"
     ]
    }
   ],
   "source": [
    "normdata=autonorm(df)\n",
    "row_rand_array=np.arange(normdata.shape[0])\n",
    "np.random.shuffle(row_rand_array)\n",
    "trainData=normdata[row_rand_array[:120]]\n",
    "testData=normdata[row_rand_array[120:],:4]\n",
    "testLables=normdata[row_rand_array[120:],-1:]\n",
    "Trueclassify=0\n",
    "Falseclassify=0\n",
    "for index,one_data in enumerate(testData):\n",
    "    res=classify(one_data,trainData)\n",
    "    if(res==testLables[index][0]):Trueclassify+=1\n",
    "    else:\n",
    "        Falseclassify+=1\n",
    "    print(f'the ID is {index},the classifier came back with {res},the real answer is {testLables[index][0]}')\n",
    "print(\"error_count is \",Falseclassify)\n",
    "print(\"the total error rate is \",Falseclassify/(Trueclassify+Falseclassify))"
   ]
  }
 ],
 "metadata": {
  "kernelspec": {
   "display_name": "Python 3",
   "language": "python",
   "name": "python3"
  },
  "language_info": {
   "codemirror_mode": {
    "name": "ipython",
    "version": 3
   },
   "file_extension": ".py",
   "mimetype": "text/x-python",
   "name": "python",
   "nbconvert_exporter": "python",
   "pygments_lexer": "ipython3",
   "version": "3.6.10"
  }
 },
 "nbformat": 4,
 "nbformat_minor": 4
}
